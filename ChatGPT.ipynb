{
 "cells": [
  {
   "cell_type": "markdown",
   "id": "7ae68c0a",
   "metadata": {},
   "source": [
    "```\n",
    "Install packages\n",
    "C:\\ProgramData\\anaconda3>python -m pip install openai  \n",
    "C:\\ProgramData\\anaconda3>python -m pip install python-dotenv  \n",
    "\n",
    "Need to get OpenAI API Key\n",
    "1. At platform.openai.com and sign in with an OpenAI account.\n",
    "2. Click the profile icon at the top-right corner of the page and select \"View API Keys.\"\n",
    "2. Click \"Create New Secret Key\" to generate a new API key.\n",
    "\n",
    ".evn file\n",
    "OPENAI_API_KEY = \"Your OpenAI key\"\n",
    "```"
   ]
  },
  {
   "cell_type": "markdown",
   "id": "e6686ca4",
   "metadata": {},
   "source": [
    "### Load the API key and relevant Python libaries"
   ]
  },
  {
   "cell_type": "code",
   "execution_count": 1,
   "id": "91481a32",
   "metadata": {},
   "outputs": [],
   "source": [
    "import openai\n",
    "import os\n",
    "\n",
    "from dotenv import load_dotenv, find_dotenv\n",
    "_ = load_dotenv(find_dotenv())\n",
    "\n",
    "openai.api_key = os.getenv('OPENAI_API_KEY')"
   ]
  },
  {
   "cell_type": "markdown",
   "id": "91dac00b",
   "metadata": {},
   "source": [
    "### Use OpenAI's gpt-3.5-turbo model and the chat completions endpoint."
   ]
  },
  {
   "cell_type": "code",
   "execution_count": 3,
   "id": "c3e1a9c5",
   "metadata": {},
   "outputs": [],
   "source": [
    "def get_completion(prompt, \n",
    "                   model=\"gpt-3.5-turbo\"):\n",
    "    messages = [{\"role\": \"user\", \n",
    "                 \"content\": prompt}]\n",
    "    response = openai.ChatCompletion.create(\n",
    "        model = model,\n",
    "        messages = messages,\n",
    "        temperature = 0, # this is the degree of randomness of the model's output\n",
    "    )\n",
    "    return response.choices[0].message[\"content\"]"
   ]
  },
  {
   "cell_type": "markdown",
   "id": "7155d387",
   "metadata": {},
   "source": [
    "### Prompting Principles  \n",
    "- **Principle 1: Write clear and specific instructions**\n",
    "- **Principle 2: Give the model time to “think”**"
   ]
  },
  {
   "cell_type": "markdown",
   "id": "fff5267a",
   "metadata": {},
   "source": [
    "### Tactic 1: Use delimiters to clearly indicate distinct parts of the input\n",
    "- Delimiters can be anything like: ```, \"\"\", < >, `<tag> </tag>`, `:`"
   ]
  },
  {
   "cell_type": "code",
   "execution_count": 6,
   "id": "22c3115b",
   "metadata": {},
   "outputs": [
    {
     "name": "stdout",
     "output_type": "stream",
     "text": [
      "Clear and specific instructions should be provided to guide a model towards the desired output, and longer prompts can provide more clarity and context for the model, leading to more detailed and relevant outputs.\n"
     ]
    }
   ],
   "source": [
    "text = f\"\"\"\n",
    "You should express what you want a model to do by \\ \n",
    "providing instructions that are as clear and \\ \n",
    "specific as you can possibly make them. \\ \n",
    "This will guide the model towards the desired output, \\ \n",
    "and reduce the chances of receiving irrelevant \\ \n",
    "or incorrect responses. Don't confuse writing a \\ \n",
    "clear prompt with writing a short prompt. \\ \n",
    "In many cases, longer prompts provide more clarity \\ \n",
    "and context for the model, which can lead to \\ \n",
    "more detailed and relevant outputs.\n",
    "\"\"\"\n",
    "prompt = f\"\"\"\n",
    "Summarize the text delimited by triple backticks \\ \n",
    "into a single sentence.\n",
    "```{text}```\n",
    "\"\"\"\n",
    "response = get_completion(prompt)\n",
    "print(response)"
   ]
  },
  {
   "cell_type": "markdown",
   "id": "0a342b34",
   "metadata": {
    "scrolled": false
   },
   "source": [
    "### Tactic 2: Ask for a structured output  \n",
    "Eg. JSON, HTML"
   ]
  },
  {
   "cell_type": "code",
   "execution_count": null,
   "id": "5f2e64b7",
   "metadata": {},
   "outputs": [],
   "source": [
    "prompt = f\"\"\"\n",
    "Generate a list of three made-up book titles along \\ \n",
    "with their authors and genres. \n",
    "Provide them in JSON format with the following keys: \n",
    "book_id, title, author, genre.\n",
    "\"\"\"\n",
    "response = get_completion(prompt)\n",
    "print(response)"
   ]
  }
 ],
 "metadata": {
  "kernelspec": {
   "display_name": "Python 3 (ipykernel)",
   "language": "python",
   "name": "python3"
  },
  "language_info": {
   "codemirror_mode": {
    "name": "ipython",
    "version": 3
   },
   "file_extension": ".py",
   "mimetype": "text/x-python",
   "name": "python",
   "nbconvert_exporter": "python",
   "pygments_lexer": "ipython3",
   "version": "3.10.9"
  }
 },
 "nbformat": 4,
 "nbformat_minor": 5
}
